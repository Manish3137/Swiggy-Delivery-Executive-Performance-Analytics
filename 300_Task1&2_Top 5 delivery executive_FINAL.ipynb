{
 "cells": [
  {
   "cell_type": "code",
   "execution_count": 1,
   "id": "05fefec4",
   "metadata": {},
   "outputs": [],
   "source": [
    "import pandas as pd\n",
    "from sklearn.preprocessing \n",
    "import MinMaxScaler\n",
    "\n",
    "# Loading the Data\n",
    "df = pd.read_csv(\"swiggy_deliveyboy_300.csv\", parse_dates=['order_timestamp', 'pickup_timestamp', 'delivery_timestamp'])\n",
    "\n",
    "\n"
   ]
  },
  {
   "cell_type": "code",
   "execution_count": 2,
   "id": "61df00b6",
   "metadata": {},
   "outputs": [],
   "source": [
    "#  selecting week from dates\n",
    "df['delivery_time_mins'] = (df['delivery_timestamp'] - df['pickup_timestamp']).dt.total_seconds() / 60\n",
    "df['week_num'] = df['order_timestamp'].dt.isocalendar().week - 17\n",
    "df['year'] = df['order_timestamp'].dt.year\n",
    "\n"
   ]
  },
  {
   "cell_type": "code",
   "execution_count": 3,
   "id": "fbb668a3",
   "metadata": {},
   "outputs": [],
   "source": [
    "#  Finding First Week Number of the Month\n",
    "start_date = df['order_timestamp'].min()\n",
    "first_week = start_date.isocalendar().week \n",
    "\n"
   ]
  },
  {
   "cell_type": "code",
   "execution_count": 4,
   "id": "27038b85",
   "metadata": {},
   "outputs": [],
   "source": [
    "#  Keeping Only 4 Weeks for a month(starting from first_week)\n",
    "valid_weeks = [first_week + i for i in range(4)]\n",
    "df = df[df['order_timestamp'].dt.isocalendar().week.isin(valid_weeks)]\n"
   ]
  },
  {
   "cell_type": "code",
   "execution_count": 5,
   "id": "076a72fc",
   "metadata": {},
   "outputs": [],
   "source": [
    "# Weekly Aggregation\n",
    "weekly_summary = df.groupby(['city', 'year', 'week_num', 'delivery_person_id']).agg(\n",
    "    total_orders=('order_id', 'count'),\n",
    "    avg_rating=('order_rating', 'mean'),\n",
    "    avg_delivery_time=('delivery_time_mins', 'mean')\n",
    ").reset_index()\n",
    "\n"
   ]
  },
  {
   "cell_type": "code",
   "execution_count": 6,
   "id": "a63432a4",
   "metadata": {},
   "outputs": [],
   "source": [
    "#  Normalizing for Score\n",
    "\n",
    "scaler = MinMaxScaler()\n",
    "scaled = scaler.fit_transform(weekly_summary[['total_orders', 'avg_rating']])\n",
    "weekly_summary[['orders_norm', 'rating_norm', 'delivery_time_norm']] = scaled\n",
    "\n"
   ]
  },
  {
   "cell_type": "code",
   "execution_count": 7,
   "id": "7e567de9",
   "metadata": {},
   "outputs": [],
   "source": [
    "#  Scoring System (Weights: 0.3, 0.3, 0.4)\n",
    "weekly_summary['final_score'] = (\n",
    "    0.30 * weekly_summary['orders_norm'] +\n",
    "    0.30 * weekly_summary['rating_norm'] +\n",
    "    0.40 * weekly_summary['delivery_time_norm']\n",
    ")\n",
    "\n"
   ]
  },
  {
   "cell_type": "code",
   "execution_count": 8,
   "id": "68f25ac4",
   "metadata": {},
   "outputs": [],
   "source": [
    "# Ranking top 5 per city per week\n",
    "weekly_summary = weekly_summary.sort_values(by=['city', 'year', 'week_num', 'final_score'], ascending=[True, True, True, False])\n",
    "weekly_summary['rank'] = weekly_summary.groupby(['city', 'year', 'week_num']).cumcount() + 1\n",
    "\n",
    "top_5_execs = weekly_summary[weekly_summary['rank'] <= 5]\n",
    "\n"
   ]
  },
  {
   "cell_type": "code",
   "execution_count": 9,
   "id": "4e436367",
   "metadata": {},
   "outputs": [],
   "source": [
    "#  Export to Excel\n",
    "with pd.ExcelWriter(\"300_top5_deliveryboy.xlsx\") as writer:\n",
    "    for (year, week), group in top_5_execs.groupby(['year', 'week_num']):\n",
    "        sheet_name = f\"Week_{year}_{week}\"\n",
    "        group_sorted = group.sort_values(by=['city', 'rank'])\n",
    "        group_sorted.to_excel(writer, sheet_name=sheet_name, index=False)\n",
    "\n"
   ]
  },
  {
   "cell_type": "code",
   "execution_count": 10,
   "id": "ea1c5530",
   "metadata": {},
   "outputs": [
    {
     "name": "stdout",
     "output_type": "stream",
     "text": [
      " Excel generated: '300_top5_deliveryboy.xlsx'\n"
     ]
    }
   ],
   "source": [
    "print(\" Excel generated: '300_top5_deliveryboy.xlsx'\")"
   ]
  },
  {
   "cell_type": "code",
   "execution_count": null,
   "id": "638044f5",
   "metadata": {},
   "outputs": [],
   "source": []
  }
 ],
 "metadata": {
  "kernelspec": {
   "display_name": "Python 3 (ipykernel)",
   "language": "python",
   "name": "python3"
  },
  "language_info": {
   "codemirror_mode": {
    "name": "ipython",
    "version": 3
   },
   "file_extension": ".py",
   "mimetype": "text/x-python",
   "name": "python",
   "nbconvert_exporter": "python",
   "pygments_lexer": "ipython3",
   "version": "3.9.13"
  }
 },
 "nbformat": 4,
 "nbformat_minor": 5
}

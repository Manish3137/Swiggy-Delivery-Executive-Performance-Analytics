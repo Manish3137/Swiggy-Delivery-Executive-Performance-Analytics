{
 "cells": [
  {
   "cell_type": "code",
   "execution_count": 2,
   "id": "19bfee74",
   "metadata": {},
   "outputs": [
    {
     "name": "stdout",
     "output_type": "stream",
     "text": [
      " Fixed Dataset 'swiggy_deliveyboy_300.csv' created with 100,000 rows and consistent delivery-person city mapping.\n"
     ]
    }
   ],
   "source": [
    "import pandas as pd\n",
    "import numpy as np\n",
    "import random\n",
    "from datetime import datetime, timedelta\n",
    "\n"
   ]
  },
  {
   "cell_type": "code",
   "execution_count": null,
   "id": "c57e4eed",
   "metadata": {},
   "outputs": [],
   "source": [
    "# Constants\n",
    "NUM_ROWS = 100000\n",
    "NUM_DELIVERY_PERSONS = 300\n",
    "CITIES = ['Mumbai', 'Delhi', 'Bangalore', 'Hyderabad', 'Chennai', 'Kolkata', 'Pune', 'Ahmedabad']\n",
    "START_DATE = datetime(2024, 5, 1)\n",
    "END_DATE = datetime(2024, 5, 31)\n",
    "\n"
   ]
  },
  {
   "cell_type": "code",
   "execution_count": null,
   "id": "351df48e",
   "metadata": {},
   "outputs": [],
   "source": [
    "# Helper Functions\n",
    "def random_datetime(start, end):\n",
    "    delta = end - start\n",
    "    int_delta = delta.days * 24 * 60 + delta.seconds // 60\n",
    "    random_minute = random.randrange(int_delta)\n",
    "    return start + timedelta(minutes=random_minute)\n"
   ]
  },
  {
   "cell_type": "code",
   "execution_count": null,
   "id": "214d7176",
   "metadata": {},
   "outputs": [],
   "source": [
    "\n",
    "def generate_order_times(order_time):\n",
    "    pickup_gap = random.randint(10, 30)\n",
    "    delivery_gap = random.randint(20, 60)\n",
    "    pickup_time = order_time + timedelta(minutes=pickup_gap)\n",
    "    delivery_time = pickup_time + timedelta(minutes=delivery_gap)\n",
    "    return pickup_time, delivery_time\n",
    "\n"
   ]
  },
  {
   "cell_type": "code",
   "execution_count": null,
   "id": "543f0378",
   "metadata": {},
   "outputs": [],
   "source": [
    "def generate_rating():\n",
    "    return random.choices([1, 2, 3, 4, 5], weights=[5, 10, 15, 35, 35])[0]\n",
    "\n"
   ]
  },
  {
   "cell_type": "code",
   "execution_count": null,
   "id": "593fa6e5",
   "metadata": {},
   "outputs": [],
   "source": [
    "def generate_order_value():\n",
    "    if random.random() < 0.10:\n",
    "        return round(random.uniform(1500, 3000), 2)\n",
    "    else:\n",
    "        return round(random.uniform(100, 1500), 2)\n",
    "\n"
   ]
  },
  {
   "cell_type": "code",
   "execution_count": null,
   "id": "bcdd1d18",
   "metadata": {},
   "outputs": [],
   "source": [
    "# Step 1: Assign one city per delivery person\n",
    "delivery_persons = [f\"D{pid:04d}\" for pid in range(1, NUM_DELIVERY_PERSONS + 1)]\n",
    "delivery_person_city_map = {\n",
    "    dp_id: random.choice(CITIES) for dp_id in delivery_persons\n",
    "}\n",
    "\n"
   ]
  },
  {
   "cell_type": "code",
   "execution_count": null,
   "id": "e95c9b37",
   "metadata": {},
   "outputs": [],
   "source": [
    "# Step 2: Generate Data\n",
    "data = []\n",
    "\n",
    "for i in range(NUM_ROWS):\n",
    "    order_id = str(random.randint(10**14, 10**15 - 1))  # Random 15-digit Order ID\n",
    "    delivery_person_id = random.choice(delivery_persons)\n",
    "    city = delivery_person_city_map[delivery_person_id]  # Get assigned city only\n",
    "    order_value = generate_order_value()\n",
    "    order_quantity = random.randint(1, 5)\n",
    "    order_time = random_datetime(START_DATE, END_DATE)\n",
    "    pickup_time, delivery_time = generate_order_times(order_time)\n",
    "    rating = generate_rating()\n",
    "\n",
    "    data.append([\n",
    "        order_id,\n",
    "        delivery_person_id,\n",
    "        order_value,\n",
    "        order_quantity,\n",
    "        city,\n",
    "        order_time,\n",
    "        pickup_time,\n",
    "        delivery_time,\n",
    "        rating\n",
    "    ])\n",
    "\n"
   ]
  },
  {
   "cell_type": "code",
   "execution_count": null,
   "id": "8bb69bc3",
   "metadata": {},
   "outputs": [],
   "source": [
    "# Create Dataframe\n",
    "df = pd.DataFrame(data, columns=[\n",
    "    'order_id',\n",
    "    'delivery_person_id',\n",
    "    'order_value',\n",
    "    'order_quantity',\n",
    "    'city',\n",
    "    'order_timestamp',\n",
    "    'pickup_timestamp',\n",
    "    'delivery_timestamp',\n",
    "    'order_rating'\n",
    "])\n",
    "\n"
   ]
  },
  {
   "cell_type": "code",
   "execution_count": null,
   "id": "6277742f",
   "metadata": {},
   "outputs": [],
   "source": [
    "# Exporting to CSV\n",
    "df.to_csv('swiggy_deliveyboy_300.csv', index=False)\n"
   ]
  },
  {
   "cell_type": "code",
   "execution_count": null,
   "id": "5ab9064e",
   "metadata": {},
   "outputs": [],
   "source": [
    "print(\" Fixed Dataset 'swiggy_deliveyboy_300.csv' created with 100,000 rows and consistent delivery-person city mapping.\")\n"
   ]
  }
 ],
 "metadata": {
  "kernelspec": {
   "display_name": "Python 3 (ipykernel)",
   "language": "python",
   "name": "python3"
  },
  "language_info": {
   "codemirror_mode": {
    "name": "ipython",
    "version": 3
   },
   "file_extension": ".py",
   "mimetype": "text/x-python",
   "name": "python",
   "nbconvert_exporter": "python",
   "pygments_lexer": "ipython3",
   "version": "3.9.13"
  }
 },
 "nbformat": 4,
 "nbformat_minor": 5
}
